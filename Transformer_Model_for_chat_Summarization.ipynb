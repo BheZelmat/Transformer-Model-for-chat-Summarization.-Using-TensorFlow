{
  "cells": [
    {
      "cell_type": "markdown",
      "id": "05014ac7",
      "metadata": {
        "id": "05014ac7"
      },
      "source": [
        "\n",
        "#  Transformer Model for Chat Summarization Using TensorFlow\n",
        "\n",
        "In this Notebook we will explore summarization using the transformer model. We will  implement the full transformer (both encoder and decoder)\n"
      ]
    },
    {
      "cell_type": "markdown",
      "id": "ee0da363",
      "metadata": {
        "id": "ee0da363"
      },
      "source": [
        "<a name='0'></a>\n",
        "## Introduction\n",
        "\n",
        "Summarization is an important task in natural language processing and could be useful for a consumer enterprise. For example, bots can be used to scrape articles, summarize them, and then you can use sentiment analysis to identify the sentiment about certain stocks. Who wants to read an article or a long email today anyway, In this notebookwill learn to:  \n",
        "\n",
        "- Use built-in functions to preprocess your data\n",
        "- Implement DotProductAttention\n",
        "- Implement Causal Attention\n",
        "- Understand how attention works\n",
        "- Build the transformer model\n",
        "- Evaluate your model\n",
        "- Summarize an article\n"
      ]
    },
    {
      "cell_type": "code",
      "execution_count": 4,
      "id": "7b49d856",
      "metadata": {
        "deletable": false,
        "editable": false,
        "id": "7b49d856",
        "tags": [
          "graded"
        ]
      },
      "outputs": [],
      "source": [
        "import os\n",
        "os.environ['TF_CPP_MIN_LOG_LEVEL'] = '3'\n",
        "\n",
        "import numpy as np\n",
        "import pandas as pd\n",
        "import tensorflow as tf\n",
        "import matplotlib.pyplot as plt\n",
        "import time\n",
        "import re\n",
        "\n",
        "import textwrap\n",
        "wrapper = textwrap.TextWrapper(width=70)\n",
        "\n",
        "tf.keras.utils.set_random_seed(10)"
      ]
    },
    {
      "cell_type": "markdown",
      "id": "d56fc570",
      "metadata": {
        "id": "d56fc570"
      },
      "source": [
        "\n",
        "## 1 - Import the Dataset\n"
      ]
    },
    {
      "cell_type": "code",
      "source": [
        "\n",
        "\n",
        "def get_train_test_data(data_dir):\n",
        "    # Get the train data\n",
        "    train_data = pd.read_json(f\"{data_dir}/train.json\")\n",
        "    train_data.drop(['id'], axis=1, inplace=True)\n",
        "\n",
        "    # Get the test data\n",
        "    test_data = pd.read_json(f\"{data_dir}/test.json\")\n",
        "    test_data.drop(['id'], axis=1, inplace=True)\n",
        "\n",
        "    return train_data, test_data\n",
        "\n"
      ],
      "metadata": {
        "id": "o7U2Kchjx5fI"
      },
      "id": "o7U2Kchjx5fI",
      "execution_count": 6,
      "outputs": []
    },
    {
      "cell_type": "code",
      "execution_count": 7,
      "id": "074bcce3",
      "metadata": {
        "deletable": false,
        "editable": false,
        "tags": [
          "graded"
        ],
        "colab": {
          "base_uri": "https://localhost:8080/"
        },
        "id": "074bcce3",
        "outputId": "78ed36a2-17c8-4361-c55d-fce436783d9d"
      },
      "outputs": [
        {
          "output_type": "stream",
          "name": "stdout",
          "text": [
            "Dialogue:\n",
            "Lucas: Hey! How was your day?\r\n",
            "Demi: Hey there! \r\n",
            "Demi: It was pretty fine, actually, thank you!\r\n",
            "Demi: I just got promoted! :D\r\n",
            "Lucas: Whoa! Great news!\r\n",
            "Lucas: Congratulations!\r\n",
            "Lucas: Such a success has to be celebrated.\r\n",
            "Demi: I agree! :D\r\n",
            "Demi: Tonight at Death & Co.?\r\n",
            "Lucas: Sure!\r\n",
            "Lucas: See you there at 10pm?\r\n",
            "Demi: Yeah! See you there! :D\n",
            "\n",
            "Summary:\n",
            "Demi got promoted. She will celebrate that with Lucas at Death & Co at 10 pm.\n"
          ]
        }
      ],
      "source": [
        "data_dir = \"/content/\"\n",
        "\n",
        "train_data, test_data = get_train_test_data(data_dir)\n",
        "\n",
        "# Take one example from the dataset and print it\n",
        "example_summary, example_dialogue = train_data.iloc[10]\n",
        "print(f\"Dialogue:\\n{example_dialogue}\")\n",
        "print(f\"\\nSummary:\\n{example_summary}\")"
      ]
    },
    {
      "cell_type": "markdown",
      "id": "04210324",
      "metadata": {
        "id": "04210324"
      },
      "source": [
        "\n",
        "## 2 - Preprocess the data\n",
        "\n",
        "First we will do some preprocessing of the data and split it into inputs and outputs. Here we also remove some of the characters that are specific to this dataset and add the `[EOS]` (end of sentence) token to the end. We will also add a `[SOS]` (start of sentence) token to the beginning of the sentences."
      ]
    },
    {
      "cell_type": "code",
      "source": [
        "\n",
        "def preprocess(input_data):\n",
        "    # Define the custom preprocessing function\n",
        "    def preprocess_util(input_data):\n",
        "        # Convert all text to lowercase\n",
        "        lowercase = input_data.lower()\n",
        "        # Remove newlines and double spaces\n",
        "        removed_newlines = re.sub(\"\\n|\\r|\\t\", \" \",  lowercase)\n",
        "        removed_double_spaces = ' '.join(removed_newlines.split(' '))\n",
        "        # Add start of sentence and end of sentence tokens\n",
        "        s = '[SOS] ' + removed_double_spaces + ' [EOS]'\n",
        "        return s\n",
        "\n",
        "    # Apply the preprocessing to the train and test datasets\n",
        "    input_data['summary'] = input_data.apply(lambda row : preprocess_util(row['summary']), axis = 1)\n",
        "    input_data['dialogue'] = input_data.apply(lambda row : preprocess_util(row['dialogue']), axis = 1)\n",
        "\n",
        "    document = input_data['dialogue']\n",
        "    summary = input_data['summary']\n",
        "\n",
        "    return document, summary"
      ],
      "metadata": {
        "id": "iMMy8fqkyUnm"
      },
      "id": "iMMy8fqkyUnm",
      "execution_count": 8,
      "outputs": []
    },
    {
      "cell_type": "code",
      "execution_count": 9,
      "id": "9ba397a0",
      "metadata": {
        "deletable": false,
        "editable": false,
        "tags": [
          "graded"
        ],
        "id": "9ba397a0"
      },
      "outputs": [],
      "source": [
        "document, summary = preprocess(train_data)\n",
        "document_test, summary_test = preprocess(test_data)"
      ]
    },
    {
      "cell_type": "markdown",
      "id": "0fe70280",
      "metadata": {
        "id": "0fe70280"
      },
      "source": [
        "Now we perform the standard preprocessing with the tensorflow library. We will need to modify the filters, because we dont want the `[EOS]` tokens to be removed.\n",
        "\n",
        "Then create the vocabulary by combining the data in the documents and the summaries and using `.fit_on_texts()`:"
      ]
    },
    {
      "cell_type": "code",
      "execution_count": 10,
      "id": "5dfab3c8",
      "metadata": {
        "deletable": false,
        "editable": false,
        "tags": [
          "graded"
        ],
        "colab": {
          "base_uri": "https://localhost:8080/"
        },
        "id": "5dfab3c8",
        "outputId": "5a1b7aa4-247c-43a8-bf17-a5f703d2653a"
      },
      "outputs": [
        {
          "output_type": "stream",
          "name": "stdout",
          "text": [
            "Size of vocabulary: 34250\n"
          ]
        }
      ],
      "source": [
        "# The [ and ] from default tokens cannot be removed, because they mark the SOS and EOS token.\n",
        "filters = '!\"#$%&()*+,-./:;<=>?@\\\\^_`{|}~\\t\\n'\n",
        "oov_token = '[UNK]'\n",
        "\n",
        "tokenizer = tf.keras.preprocessing.text.Tokenizer(filters=filters, oov_token=oov_token, lower=False)\n",
        "\n",
        "documents_and_summary = pd.concat([document, summary], ignore_index=True)\n",
        "\n",
        "tokenizer.fit_on_texts(documents_and_summary)\n",
        "\n",
        "inputs = tokenizer.texts_to_sequences(document)\n",
        "targets = tokenizer.texts_to_sequences(summary)\n",
        "\n",
        "vocab_size = len(tokenizer.word_index) + 1\n",
        "\n",
        "print(f'Size of vocabulary: {vocab_size}')"
      ]
    },
    {
      "cell_type": "code",
      "execution_count": 11,
      "id": "90dab77d",
      "metadata": {
        "colab": {
          "base_uri": "https://localhost:8080/"
        },
        "id": "90dab77d",
        "outputId": "0c0581ff-39ce-4147-c7ca-4b0c7375f92c"
      },
      "outputs": [
        {
          "output_type": "stream",
          "name": "stdout",
          "text": [
            "[SOS] neville: hi there, does anyone remember what date i got married on?  don: are you serious?  neville: dead serious. we're on vacation, and tina's mad at me about something. i have a strange suspicion that this might have something to do with our wedding anniversary, but i have nowhere to check.  wyatt: hang on, i'll ask my wife.  don: haha, someone's in a lot of trouble :d  wyatt: september 17. i hope you remember the year ;) [EOS]\n",
            "[7, 3019, 116, 47, 255, 494, 243, 26, 485, 2, 92, 971, 22, 862, 20, 5, 680, 3019, 1569, 680, 223, 22, 1727, 9, 5366, 1096, 23, 24, 35, 110, 2, 17, 6, 1270, 9942, 16, 38, 256, 17, 110, 4, 30, 25, 156, 671, 2083, 18, 2, 17, 3588, 4, 236, 2727, 1223, 22, 63, 193, 29, 1057, 862, 178, 3589, 13, 6, 195, 14, 1580, 82, 2727, 2128, 2213, 2, 207, 5, 243, 3, 213, 8]\n"
          ]
        }
      ],
      "source": [
        "print(document[5])\n",
        "print(inputs[5])"
      ]
    },
    {
      "cell_type": "markdown",
      "id": "7341b3f5",
      "metadata": {
        "id": "7341b3f5"
      },
      "source": [
        "Now we can pad the tokenized sequences for the training data.\n",
        "\n",
        "For the purpose of this notebook we need to limit the length of the sequences, as transformers are really big models and are not meant to be trained in such small environments."
      ]
    },
    {
      "cell_type": "code",
      "execution_count": 12,
      "id": "c5846dd5",
      "metadata": {
        "deletable": false,
        "editable": false,
        "tags": [
          "graded"
        ],
        "id": "c5846dd5"
      },
      "outputs": [],
      "source": [
        "# Limit the size of the input and output data for being able to run it in this environment.\n",
        "encoder_maxlen = 150\n",
        "decoder_maxlen = 50\n",
        "\n",
        "# Pad the sequences.\n",
        "inputs = tf.keras.preprocessing.sequence.pad_sequences(inputs, maxlen=encoder_maxlen, padding='post', truncating='post')\n",
        "targets = tf.keras.preprocessing.sequence.pad_sequences(targets, maxlen=decoder_maxlen, padding='post', truncating='post')\n",
        "\n",
        "inputs = tf.cast(inputs, dtype=tf.int32)\n",
        "targets = tf.cast(targets, dtype=tf.int32)\n",
        "\n",
        "# Create the final training dataset.\n",
        "BUFFER_SIZE = 10000\n",
        "BATCH_SIZE = 64\n",
        "\n",
        "dataset = tf.data.Dataset.from_tensor_slices((inputs, targets)).shuffle(BUFFER_SIZE).batch(BATCH_SIZE)"
      ]
    },
    {
      "cell_type": "markdown",
      "id": "58b25fb2",
      "metadata": {
        "id": "58b25fb2"
      },
      "source": [
        "\n",
        "## 3 - Positional Encoding\n",
        "\n",
        "In sequence to sequence tasks, the relative order of our data is extremely important to its meaning. When we were training sequential neural networks such as RNNs, we fed our inputs into the network in order. Information about the order of our data was automatically fed into out model. However, when we train a Transformer network using multi-head attention, we feed our data into the model all at once. While this dramatically reduces training time, there is no information about the order of our data. This is where positional encoding is useful.\n"
      ]
    },
    {
      "cell_type": "code",
      "execution_count": 13,
      "id": "0e65672c",
      "metadata": {
        "deletable": false,
        "editable": false,
        "tags": [
          "graded"
        ],
        "id": "0e65672c"
      },
      "outputs": [],
      "source": [
        "def positional_encoding(positions, d_model):\n",
        "    \"\"\"\n",
        "    Precomputes a matrix with all the positional encodings\n",
        "\n",
        "    Arguments:\n",
        "        positions (int): Maximum number of positions to be encoded\n",
        "        d_model (int): Encoding size\n",
        "\n",
        "    Returns:\n",
        "        pos_encoding (tf.Tensor): A matrix of shape (1, position, d_model) with the positional encodings\n",
        "    \"\"\"\n",
        "\n",
        "    position = np.arange(positions)[:, np.newaxis]\n",
        "    k = np.arange(d_model)[np.newaxis, :]\n",
        "    i = k // 2\n",
        "\n",
        "    # initialize a matrix angle_rads of all the angles\n",
        "    angle_rates = 1 / np.power(10000, (2 * i) / np.float32(d_model))\n",
        "    angle_rads = position * angle_rates\n",
        "\n",
        "    # apply sin to even indices in the array; 2i\n",
        "    angle_rads[:, 0::2] = np.sin(angle_rads[:, 0::2])\n",
        "\n",
        "    # apply cos to odd indices in the array; 2i+1\n",
        "    angle_rads[:, 1::2] = np.cos(angle_rads[:, 1::2])\n",
        "\n",
        "    pos_encoding = angle_rads[np.newaxis, ...]\n",
        "\n",
        "    return tf.cast(pos_encoding, dtype=tf.float32)"
      ]
    },
    {
      "cell_type": "markdown",
      "id": "9e1f1063",
      "metadata": {
        "id": "9e1f1063"
      },
      "source": [
        "\n",
        "## 4 - Masking\n",
        "\n",
        "There are two types of masks that are useful when building our Transformer network: the *padding mask* and the *look-ahead mask*. Both help the softmax computation give the appropriate weights to the words in our input sentence.\n",
        "\n",
        "\n"
      ]
    },
    {
      "cell_type": "code",
      "execution_count": 14,
      "id": "cfc7471c",
      "metadata": {
        "deletable": false,
        "editable": false,
        "tags": [
          "graded"
        ],
        "id": "cfc7471c"
      },
      "outputs": [],
      "source": [
        "def create_padding_mask(decoder_token_ids):\n",
        "    \"\"\"\n",
        "    Creates a matrix mask for the padding cells\n",
        "\n",
        "    Arguments:\n",
        "        decoder_token_ids (matrix like): matrix of size (n, m)\n",
        "\n",
        "    Returns:\n",
        "        mask (tf.Tensor): binary tensor of size (n, 1, m)\n",
        "    \"\"\"\n",
        "    seq = 1 - tf.cast(tf.math.equal(decoder_token_ids, 0), tf.float32)\n",
        "\n",
        "    # add extra dimensions to add the padding to the attention logits.\n",
        "    # this will allow for broadcasting later when comparing sequences\n",
        "    return seq[:, tf.newaxis, :]\n",
        "\n",
        "\n",
        "def create_look_ahead_mask(sequence_length):\n",
        "    \"\"\"\n",
        "    Returns a lower triangular matrix filled with ones\n",
        "\n",
        "    Arguments:\n",
        "        sequence_length (int): matrix size\n",
        "\n",
        "    Returns:\n",
        "        mask (tf.Tensor): binary tensor of size (sequence_length, sequence_length)\n",
        "    \"\"\"\n",
        "    mask = tf.linalg.band_part(tf.ones((1, sequence_length, sequence_length)), -1, 0)\n",
        "    return mask"
      ]
    },
    {
      "cell_type": "markdown",
      "id": "00b9c92a",
      "metadata": {
        "id": "00b9c92a"
      },
      "source": [
        "\n",
        "## 5 - Encoder\n",
        "\n",
        "\n",
        "The Transformer Encoder layer pairs self-attention and convolutional neural network style of processing to improve the speed of training and passes K and V matrices to the Decoder, which we'll build later in the assignment. In this section of the assignment, we will implement the Encoder by pairing multi-head attention and a feed forward neural network (Figure 2a).\n",
        "\n",
        "* `MultiHeadAttention` you can think of as computing the self-attention several times to detect different features.\n",
        "* Feed forward neural network contains two Dense layers which we'll implement as the function `FullyConnected`\n",
        "\n",
        "Our input sentence first passes through a *multi-head attention layer*, where the encoder looks at other words in the input sentence as it encodes a specific word. The outputs of the multi-head attention layer are then fed to a *feed forward neural network*. The exact same feed forward network is independently applied to each position.\n",
        "   \n",
        "* For the `MultiHeadAttention` layer, you will use the [MultiHeadAttention](https://www.tensorflow.org/api_docs/python/tf/keras/layers/MultiHeadAttention) implemented in Keras."
      ]
    },
    {
      "cell_type": "code",
      "execution_count": 17,
      "id": "c3fd59d0",
      "metadata": {
        "deletable": false,
        "editable": false,
        "tags": [
          "graded"
        ],
        "id": "c3fd59d0"
      },
      "outputs": [],
      "source": [
        "def FullyConnected(embedding_dim, fully_connected_dim):\n",
        "    \"\"\"\n",
        "    Returns a sequential model consisting of two dense layers. The first dense layer has\n",
        "    fully_connected_dim neurons and is activated by relu. The second dense layer has\n",
        "    embedding_dim and no activation.\n",
        "\n",
        "    Arguments:\n",
        "        embedding_dim (int): output dimension\n",
        "        fully_connected_dim (int): dimension of the hidden layer\n",
        "\n",
        "    Returns:\n",
        "        _ (tf.keras.Model): sequential model\n",
        "    \"\"\"\n",
        "    return tf.keras.Sequential([\n",
        "        tf.keras.layers.Dense(fully_connected_dim, activation='relu'),  # (batch_size, seq_len, d_model)\n",
        "        tf.keras.layers.Dense(embedding_dim)  # (batch_size, seq_len, d_model)\n",
        "    ])"
      ]
    },
    {
      "cell_type": "markdown",
      "id": "99d7003a",
      "metadata": {
        "id": "99d7003a"
      },
      "source": [
        "\n",
        "### 5.1 Encoder Layer\n",
        "\n",
        "Now you can pair multi-head attention and feed forward neural network together in an encoder layer! You will also use residual connections and layer normalization to help speed up training (Figure 2a).\n",
        "\n",
        "The encoder block performs the following steps:\n",
        "\n",
        "1. It takes the Q, V, K matrices and a boolean mask to a multi-head attention layer. Remember that to compute *self*-attention Q, V and K are the same.\n",
        "2. There is a skip connection to add your original input `x` and the output of the multi-head attention layer.\n",
        "3. After adding the skip connection, the output passes through the first normalization layer.\n",
        "4. Finally, steps 1-3 are repeated but with the feed forward neural network with a dropout layer instead of the multi-head attention layer.\n"
      ]
    },
    {
      "cell_type": "code",
      "execution_count": 18,
      "id": "51c1452b",
      "metadata": {
        "deletable": false,
        "editable": false,
        "tags": [
          "graded"
        ],
        "id": "51c1452b"
      },
      "outputs": [],
      "source": [
        "class EncoderLayer(tf.keras.layers.Layer):\n",
        "    \"\"\"\n",
        "    The encoder layer is composed by a multi-head self-attention mechanism,\n",
        "    followed by a simple, positionwise fully connected feed-forward network.\n",
        "    This architecture includes a residual connection around each of the two\n",
        "    sub-layers, followed by layer normalization.\n",
        "    \"\"\"\n",
        "    def __init__(self, embedding_dim, num_heads, fully_connected_dim,\n",
        "                 dropout_rate=0.1, layernorm_eps=1e-6):\n",
        "\n",
        "        super(EncoderLayer, self).__init__()\n",
        "\n",
        "        self.mha = tf.keras.layers.MultiHeadAttention(\n",
        "            num_heads=num_heads,\n",
        "            key_dim=embedding_dim,\n",
        "            dropout=dropout_rate\n",
        "        )\n",
        "\n",
        "        self.ffn = FullyConnected(\n",
        "            embedding_dim=embedding_dim,\n",
        "            fully_connected_dim=fully_connected_dim\n",
        "        )\n",
        "\n",
        "        self.layernorm1 = tf.keras.layers.LayerNormalization(epsilon=layernorm_eps)\n",
        "        self.layernorm2 = tf.keras.layers.LayerNormalization(epsilon=layernorm_eps)\n",
        "\n",
        "        self.dropout_ffn = tf.keras.layers.Dropout(dropout_rate)\n",
        "\n",
        "    def call(self, x, training, mask):\n",
        "        \"\"\"\n",
        "        Forward pass for the Encoder Layer\n",
        "\n",
        "        Arguments:\n",
        "            x (tf.Tensor): Tensor of shape (batch_size, input_seq_len, fully_connected_dim)\n",
        "            training (bool): Boolean, set to true to activate\n",
        "                        the training mode for dropout layers\n",
        "            mask (tf.Tensor): Boolean mask to ensure that the padding is not\n",
        "                    treated as part of the input\n",
        "        Returns:\n",
        "            encoder_layer_out (tf.Tensor): Tensor of shape (batch_size, input_seq_len, embedding_dim)\n",
        "        \"\"\"\n",
        "        # calculate self-attention using mha(~1 line).\n",
        "        # Dropout is added by Keras automatically if the dropout parameter is non-zero during training\n",
        "        self_mha_output = self.mha(x, x, x, mask)  # Self attention (batch_size, input_seq_len, fully_connected_dim)\n",
        "\n",
        "        # skip connection\n",
        "        # apply layer normalization on sum of the input and the attention output to get the\n",
        "        # output of the multi-head attention layer\n",
        "        skip_x_attention = self.layernorm1(x + self_mha_output)  # (batch_size, input_seq_len, fully_connected_dim)\n",
        "\n",
        "        # pass the output of the multi-head attention layer through a ffn\n",
        "        ffn_output = self.ffn(skip_x_attention)  # (batch_size, input_seq_len, fully_connected_dim)\n",
        "\n",
        "        # apply dropout layer to ffn output during training\n",
        "        # use `training=training`\n",
        "        ffn_output = self.dropout_ffn(ffn_output, training=training)\n",
        "\n",
        "        # apply layer normalization on sum of the output from multi-head attention (skip connection) and ffn output\n",
        "        # to get the output of the encoder layer\n",
        "        encoder_layer_out = self.layernorm2(skip_x_attention + ffn_output)  # (batch_size, input_seq_len, embedding_dim)\n",
        "\n",
        "        return encoder_layer_out\n",
        ""
      ]
    },
    {
      "cell_type": "markdown",
      "id": "2e36f13b",
      "metadata": {
        "id": "2e36f13b"
      },
      "source": [
        "\n",
        "### 5.2 - Full Encoder\n",
        "\n",
        "Now we're ready to build the full Transformer Encoder (Figure 2b), where we will embed our input and add the positional encodings you calculated. We will then feed our encoded embeddings to a stack of Encoder layers.\n",
        "\n",
        "\n",
        "The Encoder class  performs the following steps:\n",
        "\n",
        "1. Pass the input through the Embedding layer.\n",
        "2. Scale the embedding by multiplying it by the square root of the embedding dimension.\n",
        "3. Add the position encoding: self.pos_encoding `[:, :seq_len, :]` to the embedding.\n",
        "4. Pass the encoded embedding through a dropout layer\n",
        "5. Pass the output of the dropout layer through the stack of encoding layers using a for loop."
      ]
    },
    {
      "cell_type": "code",
      "execution_count": 19,
      "id": "d677d14e",
      "metadata": {
        "deletable": false,
        "editable": false,
        "tags": [
          "graded"
        ],
        "id": "d677d14e"
      },
      "outputs": [],
      "source": [
        "class Encoder(tf.keras.layers.Layer):\n",
        "    \"\"\"\n",
        "    The entire Encoder starts by passing the input to an embedding layer\n",
        "    and using positional encoding to then pass the output through a stack of\n",
        "    encoder Layers\n",
        "\n",
        "    \"\"\"\n",
        "    def __init__(self, num_layers, embedding_dim, num_heads, fully_connected_dim, input_vocab_size,\n",
        "               maximum_position_encoding, dropout_rate=0.1, layernorm_eps=1e-6):\n",
        "        super(Encoder, self).__init__()\n",
        "\n",
        "        self.embedding_dim = embedding_dim\n",
        "        self.num_layers = num_layers\n",
        "\n",
        "        self.embedding = tf.keras.layers.Embedding(input_vocab_size, self.embedding_dim)\n",
        "        self.pos_encoding = positional_encoding(maximum_position_encoding,\n",
        "                                                self.embedding_dim)\n",
        "\n",
        "\n",
        "        self.enc_layers = [EncoderLayer(embedding_dim=self.embedding_dim,\n",
        "                                        num_heads=num_heads,\n",
        "                                        fully_connected_dim=fully_connected_dim,\n",
        "                                        dropout_rate=dropout_rate,\n",
        "                                        layernorm_eps=layernorm_eps)\n",
        "                           for _ in range(self.num_layers)]\n",
        "\n",
        "        self.dropout = tf.keras.layers.Dropout(dropout_rate)\n",
        "\n",
        "    def call(self, x, training, mask):\n",
        "        \"\"\"\n",
        "        Forward pass for the Encoder\n",
        "\n",
        "        Arguments:\n",
        "            x (tf.Tensor): Tensor of shape (batch_size, seq_len, embedding_dim)\n",
        "            training (bool): Boolean, set to true to activate\n",
        "                        the training mode for dropout layers\n",
        "            mask (tf.Tensor): Boolean mask to ensure that the padding is not\n",
        "                    treated as part of the input\n",
        "\n",
        "        Returns:\n",
        "            x (tf.Tensor): Tensor of shape (batch_size, seq_len, embedding_dim)\n",
        "        \"\"\"\n",
        "        seq_len = tf.shape(x)[1]\n",
        "\n",
        "        # Pass input through the Embedding layer\n",
        "        x = self.embedding(x)  # (batch_size, input_seq_len, embedding_dim)\n",
        "        # Scale embedding by multiplying it by the square root of the embedding dimension\n",
        "        x *= tf.math.sqrt(tf.cast(self.embedding_dim, tf.float32))\n",
        "        # Add the position encoding to embedding\n",
        "        x += self.pos_encoding[:, :seq_len, :]\n",
        "        # Pass the encoded embedding through a dropout layer\n",
        "        # use `training=training`\n",
        "        x = self.dropout(x, training=training)\n",
        "        # Pass the output through the stack of encoding layers\n",
        "        for i in range(self.num_layers):\n",
        "            x = self.enc_layers[i](x, training, mask)\n",
        "\n",
        "        return x  # (batch_size, input_seq_len, embedding_dim)"
      ]
    },
    {
      "cell_type": "markdown",
      "id": "9c7356fd",
      "metadata": {
        "id": "9c7356fd"
      },
      "source": [
        "\n",
        "## 6 - Decoder\n",
        "\n",
        "The Decoder layer takes the K and V matrices generated by the Encoder and computes the second multi-head attention layer with the Q matrix from the output\n",
        "\n"
      ]
    },
    {
      "cell_type": "markdown",
      "source": [
        "\n",
        "### 6.1 - Decoder Layer\n",
        "Again, we'll pair multi-head attention with a feed forward neural network, but this time we'll implement two multi-head attention layers. We will also use residual connections and layer normalization to help speed up training\n"
      ],
      "metadata": {
        "id": "LYj3XHUI4GkG"
      },
      "id": "LYj3XHUI4GkG"
    },
    {
      "cell_type": "code",
      "execution_count": 20,
      "id": "d8d3a38d",
      "metadata": {
        "deletable": false,
        "tags": [
          "graded"
        ],
        "id": "d8d3a38d"
      },
      "outputs": [],
      "source": [
        "\n",
        "class DecoderLayer(tf.keras.layers.Layer):\n",
        "    \"\"\"\n",
        "    The decoder layer is composed by two multi-head attention blocks,\n",
        "    one that takes the new input and uses self-attention, and the other\n",
        "    one that combines it with the output of the encoder, followed by a\n",
        "    fully connected block.\n",
        "    \"\"\"\n",
        "    def __init__(self, embedding_dim, num_heads, fully_connected_dim, dropout_rate=0.1, layernorm_eps=1e-6):\n",
        "        super(DecoderLayer, self).__init__()\n",
        "\n",
        "        self.mha1 = tf.keras.layers.MultiHeadAttention(\n",
        "            num_heads=num_heads,\n",
        "            key_dim=embedding_dim,\n",
        "            dropout=dropout_rate\n",
        "        )\n",
        "\n",
        "        self.mha2 = tf.keras.layers.MultiHeadAttention(\n",
        "            num_heads=num_heads,\n",
        "            key_dim=embedding_dim,\n",
        "            dropout=dropout_rate\n",
        "        )\n",
        "\n",
        "        self.ffn = FullyConnected(\n",
        "            embedding_dim=embedding_dim,\n",
        "            fully_connected_dim=fully_connected_dim\n",
        "        )\n",
        "\n",
        "        self.layernorm1 = tf.keras.layers.LayerNormalization(epsilon=layernorm_eps)\n",
        "        self.layernorm2 = tf.keras.layers.LayerNormalization(epsilon=layernorm_eps)\n",
        "        self.layernorm3 = tf.keras.layers.LayerNormalization(epsilon=layernorm_eps)\n",
        "\n",
        "        self.dropout_ffn = tf.keras.layers.Dropout(dropout_rate)\n",
        "\n",
        "    def call(self, x, enc_output, training, look_ahead_mask, padding_mask):\n",
        "        \"\"\"\n",
        "        Forward pass for the Decoder Layer\n",
        "\n",
        "        Arguments:\n",
        "            x (tf.Tensor): Tensor of shape (batch_size, target_seq_len, fully_connected_dim)\n",
        "            enc_output (tf.Tensor): Tensor of shape(batch_size, input_seq_len, fully_connected_dim)\n",
        "            training (bool): Boolean, set to true to activate\n",
        "                        the training mode for dropout layers\n",
        "            look_ahead_mask (tf.Tensor): Boolean mask for the target_input\n",
        "            padding_mask (tf.Tensor): Boolean mask for the second multihead attention layer\n",
        "        Returns:\n",
        "            out3 (tf.Tensor): Tensor of shape (batch_size, target_seq_len, fully_connected_dim)\n",
        "            attn_weights_block1 (tf.Tensor): Tensor of shape (batch_size, num_heads, target_seq_len, target_seq_len)\n",
        "            attn_weights_block2 (tf.Tensor): Tensor of shape (batch_size, num_heads, target_seq_len, input_seq_len)\n",
        "        \"\"\"\n",
        "\n",
        "\n",
        "        # enc_output.shape == (batch_size, input_seq_len, fully_connected_dim)\n",
        "\n",
        "        # BLOCK 1\n",
        "        # calculate self-attention and return attention scores as attn_weights_block1.\n",
        "        # Dropout will be applied during training (~1 line).\n",
        "        mult_attn_out1,attn_weights_block1 = self.mha1(x,x,x,look_ahead_mask,return_attention_scores=True)\n",
        "\n",
        "        # apply layer normalization (layernorm1) to the sum of the attention output and the input (~1 line)\n",
        "        Q1 = self.layernorm1(x + mult_attn_out1)\n",
        "\n",
        "\n",
        "        # BLOCK 2\n",
        "        # calculate self-attention using the Q from the first block and K and V from the encoder output.\n",
        "        # Dropout will be applied during training\n",
        "        # Return attention scores as attn_weights_block2 (~1 line)\n",
        "        mult_attn_out2,attn_weights_block2 = self.mha2(Q1 , enc_output, enc_output , padding_mask,return_attention_scores=True)\n",
        "\n",
        "        # apply layer normalization (layernorm2) to the sum of the attention output and the output of the first block (~1 line)\n",
        "        mult_attn_out2 = self.layernorm1(mult_attn_out2+Q1)\n",
        "\n",
        "        #BLOCK 3\n",
        "        # pass the output of the second block through a ffn\n",
        "        ffn_output = self.ffn(mult_attn_out2)\n",
        "\n",
        "        # apply a dropout layer to the ffn output\n",
        "        ffn_output = self.dropout_ffn(ffn_output,training=training)\n",
        "\n",
        "        # apply layer normalization (layernorm3) to the sum of the ffn output and the output of the second block\n",
        "        out3 = self.layernorm3 (ffn_output+mult_attn_out2)\n",
        "\n",
        "\n",
        "        return out3,attn_weights_block1,attn_weights_block2\n",
        ""
      ]
    },
    {
      "cell_type": "code",
      "execution_count": 21,
      "id": "41686c8b",
      "metadata": {
        "deletable": false,
        "editable": false,
        "colab": {
          "base_uri": "https://localhost:8080/"
        },
        "id": "41686c8b",
        "outputId": "82ea5b42-7ff1-4d37-d10b-e4816665d0d3"
      },
      "outputs": [
        {
          "output_type": "stream",
          "name": "stdout",
          "text": [
            "Using embedding_dim=12 and num_heads=16:\n",
            "\n",
            "q has shape:(1, 15, 12)\n",
            "Output of encoder has shape:(1, 7, 8)\n",
            "\n",
            "Output of decoder layer has shape:(1, 15, 12)\n",
            "Att Weights Block 1 has shape:(1, 16, 15, 15)\n",
            "Att Weights Block 2 has shape:(1, 16, 15, 7)\n"
          ]
        }
      ],
      "source": [
        "# Test our function!\n",
        "key_dim = 12\n",
        "n_heads = 16\n",
        "\n",
        "decoderLayer_test = DecoderLayer(embedding_dim=key_dim, num_heads=n_heads, fully_connected_dim=32)\n",
        "\n",
        "q = np.ones((1, 15, key_dim))\n",
        "encoder_test_output = tf.convert_to_tensor(np.random.rand(1, 7, 8))\n",
        "look_ahead_mask = create_look_ahead_mask(q.shape[1])\n",
        "\n",
        "out, attn_w_b1, attn_w_b2 = decoderLayer_test(q, encoder_test_output, False, look_ahead_mask, None)\n",
        "\n",
        "print(f\"Using embedding_dim={key_dim} and num_heads={n_heads}:\\n\")\n",
        "print(f\"q has shape:{q.shape}\")\n",
        "print(f\"Output of encoder has shape:{encoder_test_output.shape}\\n\")\n",
        "\n",
        "print(f\"Output of decoder layer has shape:{out.shape}\")\n",
        "print(f\"Att Weights Block 1 has shape:{attn_w_b1.shape}\")\n",
        "print(f\"Att Weights Block 2 has shape:{attn_w_b2.shape}\")"
      ]
    },
    {
      "cell_type": "markdown",
      "id": "66b82ccf",
      "metadata": {
        "id": "66b82ccf"
      },
      "source": [
        "\n",
        "### 6.2 - Full Decoder\n",
        "Time to use our Decoder layer to build a full Transformer Decoder. We will embed our output and add positional encodings. we will then feed our encoded embeddings to a stack of Decoder layers.\n"
      ]
    },
    {
      "cell_type": "code",
      "execution_count": 22,
      "id": "57dde3be",
      "metadata": {
        "deletable": false,
        "tags": [
          "graded"
        ],
        "id": "57dde3be"
      },
      "outputs": [],
      "source": [
        "\n",
        "class Decoder(tf.keras.layers.Layer):\n",
        "    \"\"\"\n",
        "    The entire Encoder starts by passing the target input to an embedding layer\n",
        "    and using positional encoding to then pass the output through a stack of\n",
        "    decoder Layers\n",
        "\n",
        "    \"\"\"\n",
        "    def __init__(self, num_layers, embedding_dim, num_heads, fully_connected_dim, target_vocab_size,\n",
        "               maximum_position_encoding, dropout_rate=0.1, layernorm_eps=1e-6):\n",
        "        super(Decoder, self).__init__()\n",
        "\n",
        "        self.embedding_dim = embedding_dim\n",
        "        self.num_layers = num_layers\n",
        "\n",
        "        self.embedding = tf.keras.layers.Embedding(target_vocab_size, self.embedding_dim)\n",
        "        self.pos_encoding = positional_encoding(maximum_position_encoding, self.embedding_dim)\n",
        "\n",
        "        self.dec_layers = [DecoderLayer(embedding_dim=self.embedding_dim,\n",
        "                                        num_heads=num_heads,\n",
        "                                        fully_connected_dim=fully_connected_dim,\n",
        "                                        dropout_rate=dropout_rate,\n",
        "                                        layernorm_eps=layernorm_eps)\n",
        "                           for _ in range(self.num_layers)]\n",
        "        self.dropout = tf.keras.layers.Dropout(dropout_rate)\n",
        "\n",
        "    def call(self, x, enc_output, training,\n",
        "           look_ahead_mask, padding_mask):\n",
        "        \"\"\"\n",
        "        Forward  pass for the Decoder\n",
        "\n",
        "        Arguments:\n",
        "            x (tf.Tensor): Tensor of shape (batch_size, target_seq_len, fully_connected_dim)\n",
        "            enc_output (tf.Tensor):  Tensor of shape(batch_size, input_seq_len, fully_connected_dim)\n",
        "            training (bool): Boolean, set to true to activate\n",
        "                        the training mode for dropout layers\n",
        "            look_ahead_mask (tf.Tensor): Boolean mask for the target_input\n",
        "            padding_mask (tf.Tensor): Boolean mask for the second multihead attention layer\n",
        "        Returns:\n",
        "            x (tf.Tensor): Tensor of shape (batch_size, target_seq_len, fully_connected_dim)\n",
        "            attention_weights (dict[str: tf.Tensor]): Dictionary of tensors containing all the attention weights\n",
        "                                each of shape Tensor of shape (batch_size, num_heads, target_seq_len, input_seq_len)\n",
        "        \"\"\"\n",
        "\n",
        "        seq_len = tf.shape(x)[1]\n",
        "        attention_weights = {}\n",
        "\n",
        "        # create word embeddings\n",
        "        x = self.embedding(x)\n",
        "\n",
        "        # scale embeddings by multiplying by the square root of their dimension\n",
        "        x *= tf.math.sqrt(tf.cast(self.embedding_dim, tf.float32))\n",
        "\n",
        "        # add positional encodings to word embedding\n",
        "        x += self.pos_encoding[:, :seq_len, :]\n",
        "\n",
        "        # apply a dropout layer to x\n",
        "\n",
        "        x = self.dropout(x,training=training)\n",
        "\n",
        "        # use a for loop to pass x through a stack of decoder layers and update attention_weights (~4 lines total)\n",
        "        for i in range(self.num_layers):\n",
        "            # pass x and the encoder output through a stack of decoder layers and save the attention weights\n",
        "            # of block 1 and 2 (~1 line)\n",
        "            x, block1, block2 = self.dec_layers[i]( x, enc_output, training, look_ahead_mask, padding_mask)\n",
        "\n",
        "            #update attention_weights dictionary with the attention weights of block 1 and block 2\n",
        "            attention_weights['decoder_layer{}_block1_self_att'.format(i+1)] = block1\n",
        "            attention_weights['decoder_layer{}_block2_decenc_att'.format(i+1)] = block2\n",
        "\n",
        "\n",
        "        # x.shape == (batch_size, target_seq_len, fully_connected_dim)\n",
        "        return x, attention_weights"
      ]
    },
    {
      "cell_type": "code",
      "execution_count": 23,
      "id": "04e877fb",
      "metadata": {
        "deletable": false,
        "editable": false,
        "colab": {
          "base_uri": "https://localhost:8080/"
        },
        "id": "04e877fb",
        "outputId": "ce73e57a-5c3e-4370-a6bb-3d9b7c57d806"
      },
      "outputs": [
        {
          "output_type": "stream",
          "name": "stdout",
          "text": [
            "Using num_layers=5, embedding_dim=13 and num_heads=17:\n",
            "\n",
            "x has shape:(3, 4)\n",
            "Output of encoder has shape:(3, 7, 9)\n",
            "\n",
            "Output of decoder has shape:(3, 4, 13)\n",
            "\n",
            "Attention weights:\n",
            "decoder_layer1_block1_self_att has shape:(3, 17, 4, 4)\n",
            "decoder_layer1_block2_decenc_att has shape:(3, 17, 4, 7)\n",
            "decoder_layer2_block1_self_att has shape:(3, 17, 4, 4)\n",
            "decoder_layer2_block2_decenc_att has shape:(3, 17, 4, 7)\n",
            "decoder_layer3_block1_self_att has shape:(3, 17, 4, 4)\n",
            "decoder_layer3_block2_decenc_att has shape:(3, 17, 4, 7)\n",
            "decoder_layer4_block1_self_att has shape:(3, 17, 4, 4)\n",
            "decoder_layer4_block2_decenc_att has shape:(3, 17, 4, 7)\n",
            "decoder_layer5_block1_self_att has shape:(3, 17, 4, 4)\n",
            "decoder_layer5_block2_decenc_att has shape:(3, 17, 4, 7)\n"
          ]
        }
      ],
      "source": [
        "# Test our function!\n",
        "n_layers = 5\n",
        "emb_d = 13\n",
        "n_heads = 17\n",
        "fully_connected_dim = 16\n",
        "target_vocab_size = 300\n",
        "maximum_position_encoding = 6\n",
        "\n",
        "x = np.array([[3, 2, 1, 1], [2, 1, 1, 0], [2, 1, 1, 0]])\n",
        "\n",
        "encoder_test_output = tf.convert_to_tensor(np.random.rand(3, 7, 9))\n",
        "\n",
        "look_ahead_mask = create_look_ahead_mask(x.shape[1])\n",
        "\n",
        "decoder_test = Decoder(n_layers, emb_d, n_heads, fully_connected_dim, target_vocab_size,maximum_position_encoding)\n",
        "\n",
        "outd, att_weights = decoder_test(x, encoder_test_output, False, look_ahead_mask, None)\n",
        "\n",
        "print(f\"Using num_layers={n_layers}, embedding_dim={emb_d} and num_heads={n_heads}:\\n\")\n",
        "print(f\"x has shape:{x.shape}\")\n",
        "print(f\"Output of encoder has shape:{encoder_test_output.shape}\\n\")\n",
        "\n",
        "print(f\"Output of decoder has shape:{outd.shape}\\n\")\n",
        "print(\"Attention weights:\")\n",
        "for name, tensor in att_weights.items():\n",
        "    print(f\"{name} has shape:{tensor.shape}\")"
      ]
    },
    {
      "cell_type": "markdown",
      "id": "848ba4b5",
      "metadata": {
        "id": "848ba4b5"
      },
      "source": [
        "\n",
        "## 7 - Transformer\n",
        "\n",
        "    \n",
        "The flow of data through the Transformer Architecture is as follows:\n",
        "* First our input passes through an Encoder, which is just repeated Encoder layers that we implemented:\n",
        "    - embedding and positional encoding of your input\n",
        "    - multi-head attention on your input\n",
        "    - feed forward neural network to help detect features\n",
        "* Then the predicted output passes through a Decoder, consisting of the decoder layers that we implemented:\n",
        "    - embedding and positional encoding of the output\n",
        "    - multi-head attention on your generated output\n",
        "    - multi-head attention with the Q from the first multi-head attention layer and the K and V from the Encoder\n",
        "    - a feed forward neural network to help detect features\n",
        "* Finally, after the Nth Decoder layer, one dense layer and a softmax are applied to generate prediction for the next output in your sequence.\n"
      ]
    },
    {
      "cell_type": "code",
      "execution_count": 24,
      "id": "c9e6cb07",
      "metadata": {
        "deletable": false,
        "tags": [
          "graded"
        ],
        "id": "c9e6cb07"
      },
      "outputs": [],
      "source": [
        "\n",
        "class Transformer(tf.keras.Model):\n",
        "    \"\"\"\n",
        "    Complete transformer with an Encoder and a Decoder\n",
        "    \"\"\"\n",
        "    def __init__(self, num_layers, embedding_dim, num_heads, fully_connected_dim, input_vocab_size,\n",
        "               target_vocab_size, max_positional_encoding_input,\n",
        "               max_positional_encoding_target, dropout_rate=0.1, layernorm_eps=1e-6):\n",
        "        super(Transformer, self).__init__()\n",
        "\n",
        "        self.encoder = Encoder(num_layers=num_layers,\n",
        "                               embedding_dim=embedding_dim,\n",
        "                               num_heads=num_heads,\n",
        "                               fully_connected_dim=fully_connected_dim,\n",
        "                               input_vocab_size=input_vocab_size,\n",
        "                               maximum_position_encoding=max_positional_encoding_input,\n",
        "                               dropout_rate=dropout_rate,\n",
        "                               layernorm_eps=layernorm_eps)\n",
        "\n",
        "        self.decoder = Decoder(num_layers=num_layers,\n",
        "                               embedding_dim=embedding_dim,\n",
        "                               num_heads=num_heads,\n",
        "                               fully_connected_dim=fully_connected_dim,\n",
        "                               target_vocab_size=target_vocab_size,\n",
        "                               maximum_position_encoding=max_positional_encoding_target,\n",
        "                               dropout_rate=dropout_rate,\n",
        "                               layernorm_eps=layernorm_eps)\n",
        "\n",
        "        self.final_layer = tf.keras.layers.Dense(target_vocab_size, activation='softmax')\n",
        "\n",
        "    def call(self, input_sentence, output_sentence, training, enc_padding_mask, look_ahead_mask, dec_padding_mask):\n",
        "        \"\"\"\n",
        "        Forward pass for the entire Transformer\n",
        "        Arguments:\n",
        "            input_sentence (tf.Tensor): Tensor of shape (batch_size, input_seq_len, fully_connected_dim)\n",
        "                              An array of the indexes of the words in the input sentence\n",
        "            output_sentence (tf.Tensor): Tensor of shape (batch_size, target_seq_len, fully_connected_dim)\n",
        "                              An array of the indexes of the words in the output sentence\n",
        "            training (bool): Boolean, set to true to activate\n",
        "                        the training mode for dropout layers\n",
        "            enc_padding_mask (tf.Tensor): Boolean mask to ensure that the padding is not\n",
        "                    treated as part of the input\n",
        "            look_ahead_mask (tf.Tensor): Boolean mask for the target_input\n",
        "            dec_padding_mask (tf.Tensor): Boolean mask for the second multihead attention layer\n",
        "        Returns:\n",
        "            final_output (tf.Tensor): The final output of the model\n",
        "            attention_weights (dict[str: tf.Tensor]): Dictionary of tensors containing all the attention weights for the decoder\n",
        "                                each of shape Tensor of shape (batch_size, num_heads, target_seq_len, input_seq_len)\n",
        "\n",
        "        \"\"\"\n",
        "\n",
        "        # call self.encoder with the appropriate arguments to get the encoder output\n",
        "        enc_output = self.encoder(input_sentence,training,enc_padding_mask)\n",
        "\n",
        "        # call self.decoder with the appropriate arguments to get the decoder output\n",
        "        # dec_output.shape == (batch_size, tar_seq_len, fully_connected_dim)\n",
        "        dec_output, attention_weights = self.decoder(output_sentence, enc_output, training, look_ahead_mask, dec_padding_mask)\n",
        "\n",
        "        # pass decoder output through a linear layer and softmax (~1 line)\n",
        "        final_output = self.final_layer(dec_output)\n",
        "\n",
        "\n",
        "        return final_output, attention_weights"
      ]
    },
    {
      "cell_type": "code",
      "execution_count": 25,
      "id": "3cd93c99",
      "metadata": {
        "deletable": false,
        "editable": false,
        "colab": {
          "base_uri": "https://localhost:8080/"
        },
        "id": "3cd93c99",
        "outputId": "608e1bf6-489d-4486-9303-3e0bee7235e0"
      },
      "outputs": [
        {
          "output_type": "stream",
          "name": "stdout",
          "text": [
            "Using num_layers=3, target_vocab_size=350 and num_heads=17:\n",
            "\n",
            "sentence_a has shape:(1, 7)\n",
            "sentence_b has shape:(1, 7)\n",
            "\n",
            "Output of transformer (summary) has shape:(1, 7, 350)\n",
            "\n",
            "Attention weights:\n",
            "decoder_layer1_block1_self_att has shape:(1, 17, 7, 7)\n",
            "decoder_layer1_block2_decenc_att has shape:(1, 17, 7, 7)\n",
            "decoder_layer2_block1_self_att has shape:(1, 17, 7, 7)\n",
            "decoder_layer2_block2_decenc_att has shape:(1, 17, 7, 7)\n",
            "decoder_layer3_block1_self_att has shape:(1, 17, 7, 7)\n",
            "decoder_layer3_block2_decenc_att has shape:(1, 17, 7, 7)\n"
          ]
        }
      ],
      "source": [
        "# Test our function!\n",
        "n_layers = 3\n",
        "emb_d = 13\n",
        "n_heads = 17\n",
        "fully_connected_dim = 8\n",
        "input_vocab_size = 300\n",
        "target_vocab_size = 350\n",
        "max_positional_encoding_input = 12\n",
        "max_positional_encoding_target = 12\n",
        "\n",
        "transformer = Transformer(n_layers,\n",
        "    emb_d,\n",
        "    n_heads,\n",
        "    fully_connected_dim,\n",
        "    input_vocab_size,\n",
        "    target_vocab_size,\n",
        "    max_positional_encoding_input,\n",
        "    max_positional_encoding_target)\n",
        "\n",
        "# 0 is the padding value\n",
        "sentence_a = np.array([[2, 3, 1, 3, 0, 0, 0]])\n",
        "sentence_b = np.array([[1, 3, 4, 0, 0, 0, 0]])\n",
        "\n",
        "enc_padding_mask = create_padding_mask(sentence_a)\n",
        "dec_padding_mask = create_padding_mask(sentence_a)\n",
        "\n",
        "look_ahead_mask = create_look_ahead_mask(sentence_a.shape[1])\n",
        "\n",
        "test_summary, att_weights = transformer(\n",
        "    sentence_a,\n",
        "    sentence_b,\n",
        "    False,\n",
        "    enc_padding_mask,\n",
        "    look_ahead_mask,\n",
        "    dec_padding_mask\n",
        ")\n",
        "\n",
        "print(f\"Using num_layers={n_layers}, target_vocab_size={target_vocab_size} and num_heads={n_heads}:\\n\")\n",
        "print(f\"sentence_a has shape:{sentence_a.shape}\")\n",
        "print(f\"sentence_b has shape:{sentence_b.shape}\")\n",
        "\n",
        "print(f\"\\nOutput of transformer (summary) has shape:{test_summary.shape}\\n\")\n",
        "print(\"Attention weights:\")\n",
        "for name, tensor in att_weights.items():\n",
        "    print(f\"{name} has shape:{tensor.shape}\")"
      ]
    },
    {
      "cell_type": "markdown",
      "id": "33e8a0c2",
      "metadata": {
        "id": "33e8a0c2"
      },
      "source": [
        "\n",
        "## 8 - Initialize the Model\n",
        "Now that we have defined the model, we can initialize and train it. First we can initialize the model with the parameters below. Note that generally these models are much larger and we are using a smaller version to fit this environment and to be able to train it in just a few minutes.\n",
        "\n",
        "The base model described in the original Transformer paper used `num_layers=6`, `embedding_dim=512`, and `fully_connected_dim=2048`."
      ]
    },
    {
      "cell_type": "code",
      "execution_count": 26,
      "id": "a5f79f64",
      "metadata": {
        "deletable": false,
        "editable": false,
        "tags": [
          "graded"
        ],
        "id": "a5f79f64"
      },
      "outputs": [],
      "source": [
        "# Define the model parameters\n",
        "num_layers = 2\n",
        "embedding_dim = 128\n",
        "fully_connected_dim = 128\n",
        "num_heads = 2\n",
        "positional_encoding_length = 256\n",
        "\n",
        "# Initialize the model\n",
        "transformer = Transformer(\n",
        "    num_layers,\n",
        "    embedding_dim,\n",
        "    num_heads,\n",
        "    fully_connected_dim,\n",
        "    vocab_size,\n",
        "    vocab_size,\n",
        "    positional_encoding_length,\n",
        "    positional_encoding_length,\n",
        ")"
      ]
    },
    {
      "cell_type": "markdown",
      "id": "71473c27",
      "metadata": {
        "id": "71473c27"
      },
      "source": [
        "\n",
        "## 9 - Prepare for Training the Model\n",
        "\n",
        "The original transformer paper uses Adam optimizer with custom learning rate scheduling, which we define in the cell below. This was empirically shown to produce faster convergence."
      ]
    },
    {
      "cell_type": "code",
      "execution_count": 27,
      "id": "eb402089",
      "metadata": {
        "deletable": false,
        "editable": false,
        "tags": [
          "graded"
        ],
        "id": "eb402089"
      },
      "outputs": [],
      "source": [
        "class CustomSchedule(tf.keras.optimizers.schedules.LearningRateSchedule):\n",
        "    def __init__(self, d_model, warmup_steps=4000):\n",
        "        super(CustomSchedule, self).__init__()\n",
        "        self.d_model = tf.cast(d_model, dtype=tf.float32)\n",
        "        self.warmup_steps = warmup_steps\n",
        "\n",
        "    def __call__(self, step):\n",
        "        step = tf.cast(step, dtype=tf.float32)\n",
        "        arg1 = tf.math.rsqrt(step)\n",
        "        arg2 = step * (self.warmup_steps ** -1.5)\n",
        "\n",
        "        return tf.math.rsqrt(self.d_model) * tf.math.minimum(arg1, arg2)\n",
        "\n",
        "learning_rate = CustomSchedule(embedding_dim)\n",
        "\n",
        "optimizer = tf.keras.optimizers.Adam(0.0002, beta_1=0.9, beta_2=0.98, epsilon=1e-9)"
      ]
    },
    {
      "cell_type": "markdown",
      "id": "ad854ab6",
      "metadata": {
        "id": "ad854ab6"
      },
      "source": [
        "Below you can plot, how the custom learning rate looks like."
      ]
    },
    {
      "cell_type": "code",
      "execution_count": 28,
      "id": "35a17a59",
      "metadata": {
        "deletable": false,
        "editable": false,
        "tags": [
          "graded"
        ],
        "colab": {
          "base_uri": "https://localhost:8080/",
          "height": 466
        },
        "id": "35a17a59",
        "outputId": "71df98c4-72d7-422c-85ee-c0881e91d6f7"
      },
      "outputs": [
        {
          "output_type": "execute_result",
          "data": {
            "text/plain": [
              "Text(0.5, 0, 'Train Step')"
            ]
          },
          "metadata": {},
          "execution_count": 28
        },
        {
          "output_type": "display_data",
          "data": {
            "text/plain": [
              "<Figure size 640x480 with 1 Axes>"
            ],
            "image/png": "[encoded data removed]"
          },
          "metadata": {}
        }
      ],
      "source": [
        "plt.plot(learning_rate(tf.range(40000, dtype=tf.float32)))\n",
        "plt.ylabel('Learning Rate')\n",
        "plt.xlabel('Train Step')"
      ]
    },
    {
      "cell_type": "markdown",
      "id": "4cfba386",
      "metadata": {
        "id": "4cfba386"
      },
      "source": [
        "Next, we set up the loss. Since the target sequences are padded, it is important to apply a padding mask when calculating the loss.\n",
        "\n",
        "We will use the sparse categorical cross-entropy loss function (`tf.keras.losses.SparseCategoricalCrossentropy`) and set the parameter `from_logits` to False since the Transformer does not output raw logits since the last layer has a softmax activation:"
      ]
    },
    {
      "cell_type": "code",
      "execution_count": 29,
      "id": "99fc8885",
      "metadata": {
        "deletable": false,
        "editable": false,
        "tags": [
          "graded"
        ],
        "id": "99fc8885"
      },
      "outputs": [],
      "source": [
        "loss_object = tf.keras.losses.SparseCategoricalCrossentropy(from_logits=False, reduction='none')\n",
        "\n",
        "def masked_loss(real, pred):\n",
        "    mask = tf.math.logical_not(tf.math.equal(real, 0))\n",
        "    loss_ = loss_object(real, pred)\n",
        "\n",
        "    mask = tf.cast(mask, dtype=loss_.dtype)\n",
        "    loss_ *= mask\n",
        "\n",
        "    return tf.reduce_sum(loss_)/tf.reduce_sum(mask)\n",
        "\n",
        "\n",
        "train_loss = tf.keras.metrics.Mean(name='train_loss')\n",
        "\n",
        "# Here we will store the losses, so we can later plot them\n",
        "losses = []"
      ]
    },
    {
      "cell_type": "markdown",
      "id": "33db3f0b",
      "metadata": {
        "id": "33db3f0b"
      },
      "source": [
        "Now we can define our custom training function."
      ]
    },
    {
      "cell_type": "code",
      "execution_count": 30,
      "id": "79092091",
      "metadata": {
        "deletable": false,
        "editable": false,
        "tags": [
          "graded"
        ],
        "id": "79092091"
      },
      "outputs": [],
      "source": [
        "@tf.function\n",
        "def train_step(model, inp, tar):\n",
        "    \"\"\"\n",
        "    One training step for the transformer\n",
        "    Arguments:\n",
        "        inp (tf.Tensor): Input data to summarize\n",
        "        tar (tf.Tensor): Target (summary)\n",
        "    Returns:\n",
        "        None\n",
        "    \"\"\"\n",
        "    tar_inp = tar[:, :-1]\n",
        "    tar_real = tar[:, 1:]\n",
        "\n",
        "    # Create masks\n",
        "    enc_padding_mask = create_padding_mask(inp)\n",
        "    look_ahead_mask = create_look_ahead_mask(tf.shape(tar_inp)[1])\n",
        "    dec_padding_mask = create_padding_mask(inp) # Notice that both encoder and decoder padding masks are equal\n",
        "\n",
        "    with tf.GradientTape() as tape:\n",
        "        predictions, _ = model(\n",
        "            inp,\n",
        "            tar_inp,\n",
        "            True,\n",
        "            enc_padding_mask,\n",
        "            look_ahead_mask,\n",
        "            dec_padding_mask\n",
        "        )\n",
        "        loss = masked_loss(tar_real, predictions)\n",
        "\n",
        "    gradients = tape.gradient(loss, transformer.trainable_variables)\n",
        "    optimizer.apply_gradients(zip(gradients, transformer.trainable_variables))\n",
        "\n",
        "    train_loss(loss)"
      ]
    },
    {
      "cell_type": "markdown",
      "id": "1480d5fd",
      "metadata": {
        "id": "1480d5fd"
      },
      "source": [
        "Now you are ready for training the model."
      ]
    },
    {
      "cell_type": "markdown",
      "id": "79e05c54",
      "metadata": {
        "id": "79e05c54"
      },
      "source": [
        "\n",
        "## 10 - Summarization\n",
        "\n",
        "The last thing we will implement is inference. With this, we will be able to produce actual summaries of the documents. We will use a simple method called greedy decoding, which means we will predict one word at a time and append it to the output. We will start with an `[SOS]` token and repeat the word by word inference until the model returns us the `[EOS]` token or until we reach the maximum length of the sentence (we need to add this limit, otherwise a poorly trained model could give you infinite sentences without ever producing the `[EOS]` token.\n",
        "\n"
      ]
    },
    {
      "cell_type": "code",
      "execution_count": 31,
      "id": "175fae70",
      "metadata": {
        "deletable": false,
        "tags": [
          "graded"
        ],
        "id": "175fae70"
      },
      "outputs": [],
      "source": [
        "\n",
        "def next_word(model, encoder_input, output):\n",
        "    \"\"\"\n",
        "    Helper function for summarization that uses the model to predict just the next word.\n",
        "    Arguments:\n",
        "        encoder_input (tf.Tensor): Input data to summarize\n",
        "        output (tf.Tensor): (incomplete) target (summary)\n",
        "    Returns:\n",
        "        predicted_id (tf.Tensor): The id of the predicted word\n",
        "    \"\"\"\n",
        "    # Create a padding mask for the input (encoder)\n",
        "    enc_padding_mask = create_padding_mask(encoder_input)\n",
        "    # Create a look-ahead mask for the output\n",
        "    look_ahead_mask = create_look_ahead_mask(tf.shape(output)[1])\n",
        "    # Create a padding mask for the input (decoder)\n",
        "    dec_padding_mask = create_padding_mask(encoder_input)\n",
        "\n",
        "    # Run the prediction of the next word with the transformer model\n",
        "    predictions, attention_weights = model(encoder_input, output, False,\n",
        "                                           enc_padding_mask, look_ahead_mask, dec_padding_mask)\n",
        "\n",
        "    # Select the last word predictions\n",
        "    predictions = predictions[:, -1:, :]  # Get the predictions for the last token\n",
        "    predicted_id = tf.cast(tf.argmax(predictions, axis=-1), tf.int32)\n",
        "\n",
        "    return predicted_id"
      ]
    },
    {
      "cell_type": "markdown",
      "id": "29af50d0",
      "metadata": {
        "id": "29af50d0"
      },
      "source": [
        "Check if the function works."
      ]
    },
    {
      "cell_type": "code",
      "execution_count": 32,
      "id": "3e97ba77",
      "metadata": {
        "deletable": false,
        "editable": false,
        "tags": [
          "graded"
        ],
        "colab": {
          "base_uri": "https://localhost:8080/"
        },
        "id": "3e97ba77",
        "outputId": "5e190e36-3e99-46ab-84d5-a3f546d9fa13"
      },
      "outputs": [
        {
          "output_type": "stream",
          "name": "stdout",
          "text": [
            "Predicted token: [[30832]]\n",
            "Predicted word: hahahaha😂😂😂😂😂😂😂\n"
          ]
        }
      ],
      "source": [
        "# Take a random sentence as an input\n",
        "input_document = tokenizer.texts_to_sequences([\"a random sentence\"])\n",
        "input_document = tf.keras.preprocessing.sequence.pad_sequences(input_document, maxlen=encoder_maxlen, padding='post', truncating='post')\n",
        "encoder_input = tf.expand_dims(input_document[0], 0)\n",
        "\n",
        "# Take the start of sentence token as the only token in the output to predict the next word\n",
        "output = tf.expand_dims([tokenizer.word_index[\"[SOS]\"]], 0)\n",
        "\n",
        "# predict the next word with your function\n",
        "predicted_token = next_word(transformer, encoder_input, output)\n",
        "print(f\"Predicted token: {predicted_token}\")\n",
        "\n",
        "predicted_word = tokenizer.sequences_to_texts(predicted_token.numpy())[0]\n",
        "print(f\"Predicted word: {predicted_word}\")"
      ]
    },
    {
      "cell_type": "code",
      "execution_count": 33,
      "id": "6177dc6a",
      "metadata": {
        "deletable": false,
        "editable": false,
        "tags": [
          "graded"
        ],
        "id": "6177dc6a"
      },
      "outputs": [],
      "source": [
        "def summarize(model, input_document):\n",
        "    \"\"\"\n",
        "    A function for summarization using the transformer model\n",
        "    Arguments:\n",
        "        input_document (tf.Tensor): Input data to summarize\n",
        "    Returns:\n",
        "        _ (str): The summary of the input_document\n",
        "    \"\"\"\n",
        "    input_document = tokenizer.texts_to_sequences([input_document])\n",
        "    input_document = tf.keras.preprocessing.sequence.pad_sequences(input_document, maxlen=encoder_maxlen, padding='post', truncating='post')\n",
        "    encoder_input = tf.expand_dims(input_document[0], 0)\n",
        "\n",
        "    output = tf.expand_dims([tokenizer.word_index[\"[SOS]\"]], 0)\n",
        "\n",
        "    for i in range(decoder_maxlen):\n",
        "        predicted_id = next_word(model, encoder_input, output)\n",
        "        output = tf.concat([output, predicted_id], axis=-1)\n",
        "\n",
        "        if predicted_id == tokenizer.word_index[\"[EOS]\"]:\n",
        "            break\n",
        "\n",
        "    return tokenizer.sequences_to_texts(output.numpy())[0]  # since there is just one translated document"
      ]
    },
    {
      "cell_type": "markdown",
      "id": "d3b15117",
      "metadata": {
        "id": "d3b15117"
      },
      "source": [
        "Now we can already summarize a sentence! But beware, since the model was not yet trained at all, it will just produce nonsense."
      ]
    },
    {
      "cell_type": "code",
      "execution_count": 34,
      "id": "bae4d5f1",
      "metadata": {
        "deletable": false,
        "editable": false,
        "tags": [
          "graded"
        ],
        "colab": {
          "base_uri": "https://localhost:8080/",
          "height": 192
        },
        "id": "bae4d5f1",
        "outputId": "b5129b2d-8c5d-4a42-9e28-fbeab48e15a1"
      },
      "outputs": [
        {
          "output_type": "stream",
          "name": "stdout",
          "text": [
            "Training set example:\n",
            "[SOS] amanda: i baked  cookies. do you want some?  jerry: sure!  amanda: i'll bring you tomorrow :-) [EOS]\n",
            "\n",
            "Human written summary:\n",
            "[SOS] amanda baked cookies and will bring jerry some tomorrow. [EOS]\n",
            "\n",
            "Model written summary:\n"
          ]
        },
        {
          "output_type": "execute_result",
          "data": {
            "text/plain": [
              "\"[SOS] hahahaha😂😂😂😂😂😂😂 recheck messing messing amanda bettina affected die amanda tomasz electoral pranksters time… hahhah 👍👍20th moaning taht coctails helicoptered wild' mock venezia 👱\\u200d♀️ taht north north wrapped wrapped wrapped maybelline fluffly clarissa's developments developments developments developments offering developments tvs developments haemorrhoids maybelline 00pm spuds denon elary sorbonne carey's pressing sauté\""
            ],
            "application/vnd.google.colaboratory.intrinsic+json": {
              "type": "string"
            }
          },
          "metadata": {},
          "execution_count": 34
        }
      ],
      "source": [
        "training_set_example = 0\n",
        "\n",
        "# Check a summary of a document from the training set\n",
        "print('Training set example:')\n",
        "print(document[training_set_example])\n",
        "print('\\nHuman written summary:')\n",
        "print(summary[training_set_example])\n",
        "print('\\nModel written summary:')\n",
        "summarize(transformer, document[training_set_example])"
      ]
    },
    {
      "cell_type": "markdown",
      "id": "90d6f836",
      "metadata": {
        "id": "90d6f836"
      },
      "source": [
        "\n",
        "## 11 - Train the model\n",
        "\n",
        "Now we can finally train the model. Below is a loop that will train our model for 25 epochs. note that it should take about 30 seconds per epoch (with the exception of the first few epochs which can take a few minutes each).\n",
        "\n",
        "Note that after each epoch we perform the summarization on one of the sentences in the test set and print it out, so we can see how our model is improving."
      ]
    },
    {
      "cell_type": "code",
      "execution_count": 35,
      "id": "ebe2bf5f",
      "metadata": {
        "deletable": false,
        "editable": false,
        "scrolled": true,
        "tags": [],
        "colab": {
          "base_uri": "https://localhost:8080/"
        },
        "id": "ebe2bf5f",
        "outputId": "9965be0d-3940-411e-ea7e-17a204458cb6"
      },
      "outputs": [
        {
          "output_type": "stream",
          "name": "stdout",
          "text": [
            "Epoch 1, Loss 7.8950\n",
            "Time taken for one epoch: 63.40859389305115 sec\n",
            "Example summarization on the test set:\n",
            "  True summarization:\n",
            "    [SOS] hannah needs betty's number but amanda doesn't have it. she needs to contact larry. [EOS]\n",
            "  Predicted summarization:\n",
            "    [SOS] [EOS]\n",
            "\n",
            "Epoch 2, Loss 6.5900\n",
            "Time taken for one epoch: 29.199660778045654 sec\n",
            "Example summarization on the test set:\n",
            "  True summarization:\n",
            "    [SOS] hannah needs betty's number but amanda doesn't have it. she needs to contact larry. [EOS]\n",
            "  Predicted summarization:\n",
            "    [SOS] is going to the the the the the the the the the the the the the the the the the the the the the the the the the the the the the the the the the the the the the the the the the the the the the the the\n",
            "\n",
            "Epoch 3, Loss 6.0242\n",
            "Time taken for one epoch: 25.6218740940094 sec\n",
            "Example summarization on the test set:\n",
            "  True summarization:\n",
            "    [SOS] hannah needs betty's number but amanda doesn't have it. she needs to contact larry. [EOS]\n",
            "  Predicted summarization:\n",
            "    [SOS] tom is going to the new new new new new new new new new new new new new new new new new new new new new new new new new new new new new new new new new new new new new new new new new new new new new\n",
            "\n",
            "Epoch 4, Loss 5.6729\n",
            "Time taken for one epoch: 21.836296558380127 sec\n",
            "Example summarization on the test set:\n",
            "  True summarization:\n",
            "    [SOS] hannah needs betty's number but amanda doesn't have it. she needs to contact larry. [EOS]\n",
            "  Predicted summarization:\n",
            "    [SOS] john is going to the new new new new new new new new new new new new new new new new new new new new new new week [EOS]\n",
            "\n",
            "Epoch 5, Loss 5.4614\n",
            "Time taken for one epoch: 22.53374981880188 sec\n",
            "Example summarization on the test set:\n",
            "  True summarization:\n",
            "    [SOS] hannah needs betty's number but amanda doesn't have it. she needs to contact larry. [EOS]\n",
            "  Predicted summarization:\n",
            "    [SOS] tom is going to the new new new new job [EOS]\n",
            "\n",
            "Epoch 6, Loss 5.3072\n",
            "Time taken for one epoch: 23.009347438812256 sec\n",
            "Example summarization on the test set:\n",
            "  True summarization:\n",
            "    [SOS] hannah needs betty's number but amanda doesn't have it. she needs to contact larry. [EOS]\n",
            "  Predicted summarization:\n",
            "    [SOS] tom is going to the new job she will be there [EOS]\n",
            "\n",
            "Epoch 7, Loss 5.1817\n",
            "Time taken for one epoch: 22.55953621864319 sec\n",
            "Example summarization on the test set:\n",
            "  True summarization:\n",
            "    [SOS] hannah needs betty's number but amanda doesn't have it. she needs to contact larry. [EOS]\n",
            "  Predicted summarization:\n",
            "    [SOS] tom is going to the party with her birthday party [EOS]\n",
            "\n",
            "Epoch 8, Loss 5.0700\n",
            "Time taken for one epoch: 21.760409593582153 sec\n",
            "Example summarization on the test set:\n",
            "  True summarization:\n",
            "    [SOS] hannah needs betty's number but amanda doesn't have it. she needs to contact larry. [EOS]\n",
            "  Predicted summarization:\n",
            "    [SOS] the new job is going to the party [EOS]\n",
            "\n",
            "Epoch 9, Loss 4.9669\n",
            "Time taken for one epoch: 21.60362672805786 sec\n",
            "Example summarization on the test set:\n",
            "  True summarization:\n",
            "    [SOS] hannah needs betty's number but amanda doesn't have it. she needs to contact larry. [EOS]\n",
            "  Predicted summarization:\n",
            "    [SOS] tom is going to the party with her birthday party [EOS]\n",
            "\n",
            "Epoch 10, Loss 4.8681\n",
            "Time taken for one epoch: 21.423439979553223 sec\n",
            "Example summarization on the test set:\n",
            "  True summarization:\n",
            "    [SOS] hannah needs betty's number but amanda doesn't have it. she needs to contact larry. [EOS]\n",
            "  Predicted summarization:\n",
            "    [SOS] kate is going to the party because he has to be there [EOS]\n",
            "\n",
            "Epoch 11, Loss 4.7682\n",
            "Time taken for one epoch: 21.72010636329651 sec\n",
            "Example summarization on the test set:\n",
            "  True summarization:\n",
            "    [SOS] hannah needs betty's number but amanda doesn't have it. she needs to contact larry. [EOS]\n",
            "  Predicted summarization:\n",
            "    [SOS] sam is going to go to the party with her [EOS]\n",
            "\n",
            "Epoch 12, Loss 4.6691\n",
            "Time taken for one epoch: 21.45612096786499 sec\n",
            "Example summarization on the test set:\n",
            "  True summarization:\n",
            "    [SOS] hannah needs betty's number but amanda doesn't have it. she needs to contact larry. [EOS]\n",
            "  Predicted summarization:\n",
            "    [SOS] anna has a lot of work to be there on the office [EOS]\n",
            "\n",
            "Epoch 13, Loss 4.5687\n",
            "Time taken for one epoch: 21.404280424118042 sec\n",
            "Example summarization on the test set:\n",
            "  True summarization:\n",
            "    [SOS] hannah needs betty's number but amanda doesn't have it. she needs to contact larry. [EOS]\n",
            "  Predicted summarization:\n",
            "    [SOS] sam has a date with her mother she has to come to her [EOS]\n",
            "\n",
            "Epoch 14, Loss 4.4714\n",
            "Time taken for one epoch: 21.4178524017334 sec\n",
            "Example summarization on the test set:\n",
            "  True summarization:\n",
            "    [SOS] hannah needs betty's number but amanda doesn't have it. she needs to contact larry. [EOS]\n",
            "  Predicted summarization:\n",
            "    [SOS] sam has a date with her mother she has to go to the party [EOS]\n",
            "\n",
            "Epoch 15, Loss 4.3702\n",
            "Time taken for one epoch: 21.323112964630127 sec\n",
            "Example summarization on the test set:\n",
            "  True summarization:\n",
            "    [SOS] hannah needs betty's number but amanda doesn't have it. she needs to contact larry. [EOS]\n",
            "  Predicted summarization:\n",
            "    [SOS] hannah has a date with his phone and her to do it [EOS]\n",
            "\n",
            "Epoch 16, Loss 4.2723\n",
            "Time taken for one epoch: 21.47480869293213 sec\n",
            "Example summarization on the test set:\n",
            "  True summarization:\n",
            "    [SOS] hannah needs betty's number but amanda doesn't have it. she needs to contact larry. [EOS]\n",
            "  Predicted summarization:\n",
            "    [SOS] hannah has a problem with her phone and her phone he has to work [EOS]\n",
            "\n",
            "Epoch 17, Loss 4.1719\n",
            "Time taken for one epoch: 21.822381734848022 sec\n",
            "Example summarization on the test set:\n",
            "  True summarization:\n",
            "    [SOS] hannah needs betty's number but amanda doesn't have it. she needs to contact larry. [EOS]\n",
            "  Predicted summarization:\n",
            "    [SOS] hannah has a problem with his mother she has to talk to her [EOS]\n",
            "\n",
            "Epoch 18, Loss 4.0752\n",
            "Time taken for one epoch: 21.39966607093811 sec\n",
            "Example summarization on the test set:\n",
            "  True summarization:\n",
            "    [SOS] hannah needs betty's number but amanda doesn't have it. she needs to contact larry. [EOS]\n",
            "  Predicted summarization:\n",
            "    [SOS] hannah has to talk about the phone and he has to do it [EOS]\n",
            "\n",
            "Epoch 19, Loss 3.9757\n",
            "Time taken for one epoch: 21.382249116897583 sec\n",
            "Example summarization on the test set:\n",
            "  True summarization:\n",
            "    [SOS] hannah needs betty's number but amanda doesn't have it. she needs to contact larry. [EOS]\n",
            "  Predicted summarization:\n",
            "    [SOS] hannah has just finished his phone and she has to do it again and she will be at the moment [EOS]\n",
            "\n",
            "Epoch 20, Loss 3.8848\n",
            "Time taken for one epoch: 21.215116024017334 sec\n",
            "Example summarization on the test set:\n",
            "  True summarization:\n",
            "    [SOS] hannah needs betty's number but amanda doesn't have it. she needs to contact larry. [EOS]\n",
            "  Predicted summarization:\n",
            "    [SOS] hannah has a problem with his number to her [EOS]\n",
            "\n",
            "Epoch 21, Loss 3.7891\n",
            "Time taken for one epoch: 21.403441667556763 sec\n",
            "Example summarization on the test set:\n",
            "  True summarization:\n",
            "    [SOS] hannah needs betty's number but amanda doesn't have it. she needs to contact larry. [EOS]\n",
            "  Predicted summarization:\n",
            "    [SOS] hannah has just finished his phone and hannah can't find it again [EOS]\n",
            "\n",
            "Epoch 22, Loss 3.6951\n",
            "Time taken for one epoch: 21.317484378814697 sec\n",
            "Example summarization on the test set:\n",
            "  True summarization:\n",
            "    [SOS] hannah needs betty's number but amanda doesn't have it. she needs to contact larry. [EOS]\n",
            "  Predicted summarization:\n",
            "    [SOS] hannah has a problem with her number from her [EOS]\n",
            "\n",
            "Epoch 23, Loss 3.6033\n",
            "Time taken for one epoch: 21.417513132095337 sec\n",
            "Example summarization on the test set:\n",
            "  True summarization:\n",
            "    [SOS] hannah needs betty's number but amanda doesn't have it. she needs to contact larry. [EOS]\n",
            "  Predicted summarization:\n",
            "    [SOS] hannah has a problem with her laptop for a walk and she will be at the park [EOS]\n",
            "\n",
            "Epoch 24, Loss 3.5144\n",
            "Time taken for one epoch: 21.210519790649414 sec\n",
            "Example summarization on the test set:\n",
            "  True summarization:\n",
            "    [SOS] hannah needs betty's number but amanda doesn't have it. she needs to contact larry. [EOS]\n",
            "  Predicted summarization:\n",
            "    [SOS] hannah has just finished his number of her desk to do it again amanda is going to be at the park [EOS]\n",
            "\n",
            "Epoch 25, Loss 3.4272\n",
            "Time taken for one epoch: 21.499215602874756 sec\n",
            "Example summarization on the test set:\n",
            "  True summarization:\n",
            "    [SOS] hannah needs betty's number but amanda doesn't have it. she needs to contact larry. [EOS]\n",
            "  Predicted summarization:\n",
            "    [SOS] hannah has just finished his number of her phone and hannah are going to get him a lift [EOS]\n",
            "\n"
          ]
        }
      ],
      "source": [
        "# Take an example from the test set, to monitor it during training\n",
        "test_example = 0\n",
        "true_summary = summary_test[test_example]\n",
        "true_document = document_test[test_example]\n",
        "\n",
        "# Define the number of epochs\n",
        "epochs = 25\n",
        "\n",
        "# Training loop\n",
        "for epoch in range(epochs):\n",
        "\n",
        "    start = time.time()\n",
        "    train_loss.reset_states()\n",
        "    number_of_batches=len(list(enumerate(dataset)))\n",
        "\n",
        "    for (batch, (inp, tar)) in enumerate(dataset):\n",
        "        print(f'Epoch {epoch+1}, Batch {batch+1}/{number_of_batches}', end='\\r')\n",
        "        train_step(transformer, inp, tar)\n",
        "\n",
        "    print (f'Epoch {epoch+1}, Loss {train_loss.result():.4f}')\n",
        "    losses.append(train_loss.result())\n",
        "\n",
        "    print (f'Time taken for one epoch: {time.time() - start} sec')\n",
        "    print('Example summarization on the test set:')\n",
        "    print('  True summarization:')\n",
        "    print(f'    {true_summary}')\n",
        "    print('  Predicted summarization:')\n",
        "    print(f'    {summarize(transformer, true_document)}\\n')"
      ]
    },
    {
      "cell_type": "markdown",
      "id": "35687ddc",
      "metadata": {
        "id": "35687ddc"
      },
      "source": [
        "Plot the loss funtion."
      ]
    },
    {
      "cell_type": "code",
      "execution_count": 36,
      "id": "eb3d5335",
      "metadata": {
        "deletable": false,
        "editable": false,
        "tags": [
          "graded"
        ],
        "colab": {
          "base_uri": "https://localhost:8080/",
          "height": 466
        },
        "id": "eb3d5335",
        "outputId": "1b9c61ee-8215-4edb-e7b2-0567ff27fc8b"
      },
      "outputs": [
        {
          "output_type": "execute_result",
          "data": {
            "text/plain": [
              "Text(0.5, 0, 'Epoch')"
            ]
          },
          "metadata": {},
          "execution_count": 36
        },
        {
          "output_type": "display_data",
          "data": {
            "text/plain": [
              "<Figure size 640x480 with 1 Axes>"
            ],
            "image/png": "[encoded data removed]"
          },
          "metadata": {}
        }
      ],
      "source": [
        "plt.plot(losses)\n",
        "plt.ylabel('Loss')\n",
        "plt.xlabel('Epoch')"
      ]
    },
    {
      "cell_type": "markdown",
      "id": "b6a53f16",
      "metadata": {
        "id": "b6a53f16"
      },
      "source": [
        "\n",
        "## 12 - Summarize some Sentences!\n",
        "\n",
        "Below we can see an example of summarization of a sentence from the training set and a sentence from the test set."
      ]
    },
    {
      "cell_type": "code",
      "execution_count": 37,
      "id": "2493b755",
      "metadata": {
        "deletable": false,
        "editable": false,
        "tags": [
          "graded"
        ],
        "colab": {
          "base_uri": "https://localhost:8080/"
        },
        "id": "2493b755",
        "outputId": "08d5a104-6dda-4298-eaa3-a5a4a20417db"
      },
      "outputs": [
        {
          "output_type": "stream",
          "name": "stdout",
          "text": [
            "Training set example:\n",
            "[SOS] amanda: i baked  cookies. do you want some?  jerry: sure!  amanda: i'll bring you tomorrow :-) [EOS]\n",
            "\n",
            "Human written summary:\n",
            "[SOS] amanda baked cookies and will bring jerry some tomorrow. [EOS]\n",
            "\n",
            "Model written summary:\n",
            "[SOS] amanda will bring some cookies tomorrow [EOS]\n"
          ]
        }
      ],
      "source": [
        "training_set_example = 0\n",
        "\n",
        "# Check a summary of a document from the training set\n",
        "print('Training set example:')\n",
        "print(document[training_set_example])\n",
        "print('\\nHuman written summary:')\n",
        "print(summary[training_set_example])\n",
        "print('\\nModel written summary:')\n",
        "print(summarize(transformer, document[training_set_example]))"
      ]
    },
    {
      "cell_type": "code",
      "execution_count": 39,
      "id": "15baaa47",
      "metadata": {
        "deletable": false,
        "editable": false,
        "tags": [
          "graded"
        ],
        "colab": {
          "base_uri": "https://localhost:8080/"
        },
        "id": "15baaa47",
        "outputId": "605e5b4e-50fd-4e61-eaf7-92f126a5b86b"
      },
      "outputs": [
        {
          "output_type": "stream",
          "name": "stdout",
          "text": [
            "Test set example:\n",
            "[SOS] ollie: hi , are you in warsaw  jane: yes, just back! btw are you free for diner the 19th?  ollie: nope!  jane: and the  18th?  ollie: nope, we have this party and you must be there, remember?  jane: oh right! i lost my calendar..  thanks for reminding me  ollie: we have lunch this week?  jane: with pleasure!  ollie: friday?  jane: ok  jane: what do you mean \" we don't have any more whisky!\" lol..  ollie: what!!!  jane: you just call me and the all thing i heard was that sentence about whisky... what's wrong with you?  ollie: oh oh... very strange! i have to be carefull may be there is some spy in my mobile! lol  jane: dont' worry, we'll check on friday.  ollie: don't forget to bring some sun with you  jane: i can't wait to be in morocco..  ollie: enjoy and see you friday  jane: sorry ollie, i'm very busy, i won't have time for lunch  tomorrow, but may be at 6pm after my courses?this trip to morocco was so nice, but time consuming!  ollie: ok for tea!  jane: i'm on my way..  ollie: tea is ready, did you bring the pastries?  jane: i already ate them all... see you in a minute  ollie: ok [EOS]\n",
            "\n",
            "Human written summary:\n",
            "[SOS] jane is in warsaw. ollie and jane has a party. jane lost her calendar. they will get a lunch this week on friday. ollie accidentally called jane and talked about whisky. jane cancels lunch. they'll meet for a tea at 6 pm. [EOS]\n",
            "\n",
            "Model written summary:\n",
            "[SOS] jane is going to warsaw for her birthday party on friday and jane will be there for friday in the afternoon [EOS]\n"
          ]
        }
      ],
      "source": [
        "test_set_example = 4\n",
        "\n",
        "# Check a summary of a document from the test set\n",
        "print('Test set example:')\n",
        "print(document_test[test_set_example])\n",
        "print('\\nHuman written summary:')\n",
        "print(summary_test[test_set_example])\n",
        "print('\\nModel written summary:')\n",
        "print(summarize(transformer, document_test[test_set_example]))"
      ]
    }
  ],
  "metadata": {
    "grader_version": "1",
    "kernelspec": {
      "display_name": "Python 3",
      "name": "python3"
    },
    "language_info": {
      "codemirror_mode": {
        "name": "ipython",
        "version": 3
      },
      "file_extension": ".py",
      "mimetype": "text/x-python",
      "name": "python",
      "nbconvert_exporter": "python",
      "pygments_lexer": "ipython3",
      "version": "3.8.10"
    },
    "colab": {
      "provenance": [],
      "toc_visible": true,
      "gpuType": "T4"
    },
    "accelerator": "GPU"
  },
  "nbformat": 4,
  "nbformat_minor": 5
}